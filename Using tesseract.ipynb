{
 "cells": [
  {
   "cell_type": "code",
   "execution_count": 2,
   "metadata": {},
   "outputs": [],
   "source": [
    "#based on coursera"
   ]
  },
  {
   "cell_type": "code",
   "execution_count": 5,
   "metadata": {},
   "outputs": [],
   "source": [
    "from PIL import Image\n",
    "import pytesseract"
   ]
  },
  {
   "cell_type": "code",
   "execution_count": 14,
   "metadata": {},
   "outputs": [
    {
     "name": "stdout",
     "output_type": "stream",
     "text": [
      "CHAPTER]\n",
      "AN OBSESSION WITH TIME\n",
      "\n",
      "Mamma- and I quarrellcd because she would not let me\n",
      "sink her makeshift boat in the marsh pool, in which a ﬁne\n",
      "steep sea could b: worked up by hand in a few seconds.\n",
      "More exactly, I quarrelled wilh Margam about itJor my\n",
      "sism always rcmaincd passive in the many disagreements\n",
      "we had when I was getting on for eleven and sh: was nines\n",
      "It is hard, as it always is with vivid childish memories, to\n",
      "know how much of the incidcm is recollectcd from (h:\n",
      "Lime of its happening, and how many suitable details the\n",
      "mind has added afterwards in recanstrucﬁon. The wholc\n",
      "lrivialuccuxrcncesccnu clear in retrospect, hm so objectively\n",
      "seen that it might be happening m any two mher damp and\n",
      "dirty shrill-voiccd children, playing on a strip or marsh\n",
      "ground much bigger than I now know it m be. The Lallic\n",
      "in (h: picmrc. wlmis mysclI, is as visible as Lhc Margaret, 50\n",
      "dun probably most nf my mcmory of what {allowed hangs\n",
      "on my modler's rc-xclling of the story she heard rmm\n",
      "Margaret two days afterwards.\n",
      "\n",
      "I do deﬁnitely remember, though, suclching my anklcs\n",
      "ccstaﬁcally m straining point as I knelt, raﬁng back on my\n",
      "heels, so that me spongy gmmd shnuld make long Mack\n",
      "stripes of dampness, like those on me hecch-bulcs just\n",
      "behind us, all the way down the {mm ofmy brown stockings,\n",
      "and not only patches on the knees and lees. This was\n",
      "luxury: no other children, w: had gathered, were encouraged\n",
      "to get as wet as we were — who slsc would have been allowcd\n",
      "to play in February on Lhc mush by I11: river? , Ccnainly\n",
      "non: of our (ricnds.\n",
      "\n",
      "I5\n"
     ]
    }
   ],
   "source": [
    "img=Image.open(\"sample4.jpg\")\n",
    "img=img.convert('L')\n",
    "img.save(\"greyscale.jpg\")\n",
    "text=pytesseract.image_to_string(Image.open(\"greyscale.jpg\"))\n",
    "print(text)"
   ]
  },
  {
   "cell_type": "code",
   "execution_count": null,
   "metadata": {},
   "outputs": [],
   "source": []
  },
  {
   "cell_type": "code",
   "execution_count": null,
   "metadata": {},
   "outputs": [],
   "source": []
  },
  {
   "cell_type": "code",
   "execution_count": null,
   "metadata": {},
   "outputs": [],
   "source": []
  },
  {
   "cell_type": "code",
   "execution_count": null,
   "metadata": {},
   "outputs": [],
   "source": []
  }
 ],
 "metadata": {
  "kernelspec": {
   "display_name": "Python 3",
   "language": "python",
   "name": "python3"
  },
  "language_info": {
   "codemirror_mode": {
    "name": "ipython",
    "version": 3
   },
   "file_extension": ".py",
   "mimetype": "text/x-python",
   "name": "python",
   "nbconvert_exporter": "python",
   "pygments_lexer": "ipython3",
   "version": "3.6.5"
  }
 },
 "nbformat": 4,
 "nbformat_minor": 2
}
